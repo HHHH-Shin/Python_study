{
 "cells": [
  {
   "cell_type": "markdown",
   "metadata": {},
   "source": [
    "# Chapter2. 파이썬 언어의 기본, IPython, 주피터 노트북 "
   ]
  },
  {
   "cell_type": "markdown",
   "metadata": {},
   "source": [
    "## 2.1. 파이썬 인터프리터 \n",
    "파이썬은 **인터프리터 언어**\n",
    "- 한 번에 하나의 명령어만 실행\n",
    "\n",
    "파이썬 프로그램 실행: `python filename.py`\n",
    "- 데이터 분석에서는 대화형 파이썬 인터프리터인 `IPython` 또는 IPython 프로젝트에서 만든 웹 기반의 주피터 노트북을 사용한다.\n",
    "- `%run` 명령어를 이용해 파이썬 파일을 실행할 수 있다."
   ]
  },
  {
   "cell_type": "code",
   "execution_count": 9,
   "metadata": {},
   "outputs": [
    {
     "name": "stdout",
     "output_type": "stream",
     "text": [
      "hello world\n"
     ]
    }
   ],
   "source": [
    "%run hello_world.py"
   ]
  },
  {
   "cell_type": "markdown",
   "metadata": {},
   "source": [
    "## 2.2. IPython 기초\n",
    "\n",
    "### 2.2.1 IPython 셸 실행하기\n",
    "터미널에서 `ipython` 명령어를 통해 실행. 대부분의 파이썬 객체가 보통의 출력 결과와는 달리 좀 더 익기 편하거나 보기 좋은 형태로 출력된다. "
   ]
  },
  {
   "cell_type": "code",
   "execution_count": 10,
   "metadata": {},
   "outputs": [
    {
     "data": {
      "text/plain": [
       "5"
      ]
     },
     "execution_count": 10,
     "metadata": {},
     "output_type": "execute_result"
    }
   ],
   "source": [
    "a = 5\n",
    "a"
   ]
  },
  {
   "cell_type": "code",
   "execution_count": 14,
   "metadata": {},
   "outputs": [
    {
     "data": {
      "text/plain": [
       "{0: -1.5980648284732568,\n",
       " 1: 0.2267226192762328,\n",
       " 2: 0.412017081160833,\n",
       " 3: -0.4715455044180888,\n",
       " 4: -0.05514723955634528,\n",
       " 5: 0.29648522984175674,\n",
       " 6: -0.1309611046276864}"
      ]
     },
     "execution_count": 14,
     "metadata": {},
     "output_type": "execute_result"
    }
   ],
   "source": [
    "import numpy as np\n",
    "data = {i : np.random.randn() for i in range(7)}\n",
    "data"
   ]
  },
  {
   "cell_type": "markdown",
   "metadata": {},
   "source": [
    "### 2.2.2 주피터 노트북 실행하기\n",
    "- 코드, 텍스트, 데이터 시각화를 비롯한 다른 출력을 대화형으로 구성할 수 있는 대화형 문서 형식\n",
    "- 터미널에서 `jupyter notebook`명령어를 통해 실행 가능 "
   ]
  },
  {
   "cell_type": "code",
   "execution_count": 16,
   "metadata": {},
   "outputs": [
    {
     "name": "stdout",
     "output_type": "stream",
     "text": [
      "hello, world\n"
     ]
    }
   ],
   "source": [
    "print('hello, world')"
   ]
  },
  {
   "cell_type": "code",
   "execution_count": 18,
   "metadata": {},
   "outputs": [],
   "source": []
  },
  {
   "cell_type": "code",
   "execution_count": 19,
   "metadata": {},
   "outputs": [
    {
     "data": {
      "text/plain": [
       "'/Users/sinhyeonho/Desktop/repo/Python/Python_for_Data_Analysis'"
      ]
     },
     "execution_count": 19,
     "metadata": {},
     "output_type": "execute_result"
    }
   ],
   "source": []
  },
  {
   "cell_type": "code",
   "execution_count": null,
   "metadata": {},
   "outputs": [],
   "source": []
  }
 ],
 "metadata": {
  "kernelspec": {
   "display_name": "Python 3",
   "language": "python",
   "name": "python3"
  },
  "language_info": {
   "codemirror_mode": {
    "name": "ipython",
    "version": 3
   },
   "file_extension": ".py",
   "mimetype": "text/x-python",
   "name": "python",
   "nbconvert_exporter": "python",
   "pygments_lexer": "ipython3",
   "version": "3.11.4"
  },
  "orig_nbformat": 4
 },
 "nbformat": 4,
 "nbformat_minor": 2
}
