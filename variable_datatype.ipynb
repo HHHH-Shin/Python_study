{
 "cells": [
  {
   "cell_type": "markdown",
   "id": "15820d72",
   "metadata": {},
   "source": [
    "# Variable and Data Type\n",
    "- **variable(변수)**: 자료를 일시적으로 보관하는 역할\n",
    "- **Data Type(자료형)**: 숫자 또는 문자와 같은 자료의 유형을 의미 "
   ]
  },
  {
   "cell_type": "markdown",
   "id": "874c0a9a",
   "metadata": {},
   "source": [
    "# Variable(변수)\n",
    "***\n",
    "변수는 필요한 자료를 일시적으로 보관하거나 처리 결과를 담을 수 있는 기억장소 역할을 수행. 따라서 변수에 값이 저장된다는 것은 메모리에 값이 저장된다는 것. 파이썬 변수는 저장될 값이 먼저 메모리에 객체 형태로 저장된 이후, 객체의 주소가 변수에 저장된다. 즉, 실제값이 저장되지 않고 실제값이 저장된 주소를 기억하는 **참조형 변수**이다.\n",
    "\n",
    "- x변수에 3.141592를 초기화할 경우 메모리에 3.141592가 객체로 저장된 후 메모리 주소 12345가 x변수에 할당\n",
    "\n",
    "<img src='./python_intermediate/image/variable.png' width = '400px' height = '200px'></img>\n",
    "\n",
    "**식별자(identifier) 규칙**  \n",
    "식별자란 정의되는 변수명, 함수명, 클래스명, 모듈명등을 총칭하는 용어이다. \n",
    "- 의미를 파악할 수 있는 이름\n",
    "- 영문자로 시작 \n",
    "- 공백 및 특수문자 불가 \n",
    "- 예약어 사용 불가\n",
    "- 두 번째 단어는 숫자, _사용 가능\n",
    "- 대소문자 구분"
   ]
  },
  {
   "cell_type": "code",
   "execution_count": 5,
   "id": "02ccdd39",
   "metadata": {},
   "outputs": [
    {
     "name": "stdout",
     "output_type": "stream",
     "text": [
      "hello python\n",
      "4421444912\n",
      "<class 'str'>\n",
      "\n",
      "100\n",
      "4358943008\n",
      "<class 'int'>\n",
      "\n",
      "150.25\n",
      "4420201552\n",
      "<class 'float'>\n",
      "\n",
      "True\n",
      "4357934440\n",
      "<class 'bool'>\n"
     ]
    }
   ],
   "source": [
    "var1 = 'hello python'\n",
    "print(var1)\n",
    "print(id(var1))\n",
    "print(type(var1))\n",
    "\n",
    "print()\n",
    "\n",
    "var1 = 100\n",
    "print(var1)\n",
    "print(id(var1))\n",
    "print(type(var1))\n",
    "\n",
    "print()\n",
    "\n",
    "var2 = 150.25\n",
    "print(var2)\n",
    "print(id(var2))\n",
    "print(type(var2))\n",
    "\n",
    "print()\n",
    "\n",
    "var3 = True\n",
    "print(var3)\n",
    "print(id(var3))\n",
    "print(type(var3))"
   ]
  },
  {
   "cell_type": "markdown",
   "id": "ce1d0868",
   "metadata": {},
   "source": [
    "- `print()`: 변수가 참조하고 있는 메모리 객체를 콘솔에 출력하는 함수\n",
    "- `id()`: 변수가 참조하고 있는 객체의 주소를 콘솔에 출력하는 함수\n",
    "\n",
    "var1변수는 문자형 객체에서 숫자형 객체로 변경되면서 메모리의 주소도 변경된다. 이를 통해 같은 변수에 새로운 객체가 들어오면 기존 객체의 내용이 수정되지 않고 새로운 객체가 생성된다는 것을 알 수 있다."
   ]
  },
  {
   "cell_type": "code",
   "execution_count": 8,
   "id": "0b1b8c25",
   "metadata": {},
   "outputs": [
    {
     "name": "stdout",
     "output_type": "stream",
     "text": [
      "['False', 'None', 'True', 'and', 'as', 'assert', 'async', 'await', 'break', 'class', 'continue', 'def', 'del', 'elif', 'else', 'except', 'finally', 'for', 'from', 'global', 'if', 'import', 'in', 'is', 'lambda', 'nonlocal', 'not', 'or', 'pass', 'raise', 'return', 'try', 'while', 'with', 'yield']\n",
      "<class 'list'>\n",
      "35\n"
     ]
    }
   ],
   "source": [
    "# 예약어 확인\n",
    "import keyword\n",
    "print(keyword.kwlist)\n",
    "print(type(keyword.kwlist))\n",
    "print(len(keyword.kwlist))"
   ]
  },
  {
   "cell_type": "markdown",
   "id": "89de0829",
   "metadata": {},
   "source": [
    "# Data Type(자료형)\n",
    "자료를 형태에 따라 구분한 것으로 다음과 같은 자료형이 존재한다. \n",
    "\n",
    "\n",
    "|유형(Type)|값(Value)|예(Sample)|\n",
    "|:---:|:---:|:---:|\n",
    "|숫자형(Nemeric)\n",
    "---"
   ]
  }
 ],
 "metadata": {
  "kernelspec": {
   "display_name": "Python 3 (ipykernel)",
   "language": "python",
   "name": "python3"
  },
  "language_info": {
   "codemirror_mode": {
    "name": "ipython",
    "version": 3
   },
   "file_extension": ".py",
   "mimetype": "text/x-python",
   "name": "python",
   "nbconvert_exporter": "python",
   "pygments_lexer": "ipython3",
   "version": "3.11.4"
  }
 },
 "nbformat": 4,
 "nbformat_minor": 5
}
