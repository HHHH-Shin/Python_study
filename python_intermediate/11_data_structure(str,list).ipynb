{
 "cells": [
  {
   "cell_type": "markdown",
   "metadata": {},
   "source": [
    "# 자료구조(data structure)"
   ]
  },
  {
   "cell_type": "markdown",
   "metadata": {},
   "source": [
    "# 1. 자료구조(data structure)\n",
    "\n",
    "---\n",
    "\n",
    "프로그래밍에 의해 만들어진 객체가 메모리에 배정될 때 기억공간에 적재되는 구조\n",
    "- 적재되는 모양에 따라 **순서자료구조**와 **비순서자료구조**로 구분된다.\n",
    "    - 순서자료구조: 칸막이(partition)로 구분된 영역에 원소들이 순서대로 적재\n",
    "    - 비순서자료구조: 하나의 큰 메모리 영역에 원소들이 적재되기 떄문에 순서가 보장되지 않음\n",
    "\n",
    "<img></img>\n",
    "\n",
    "**열거형 객체와 자료구조**  \n",
    "열거형 객체가 자료구조를 포함하고 있는 형태\n",
    "- 열거형 객체: 하나의 "
   ]
  },
  {
   "cell_type": "code",
   "execution_count": 1,
   "metadata": {},
   "outputs": [
    {
     "name": "stdout",
     "output_type": "stream",
     "text": [
      "a\n"
     ]
    }
   ],
   "source": []
  },
  {
   "cell_type": "code",
   "execution_count": null,
   "metadata": {},
   "outputs": [],
   "source": []
  }
 ],
 "metadata": {
  "kernelspec": {
   "display_name": "Python 3",
   "language": "python",
   "name": "python3"
  },
  "language_info": {
   "codemirror_mode": {
    "name": "ipython",
    "version": 3
   },
   "file_extension": ".py",
   "mimetype": "text/x-python",
   "name": "python",
   "nbconvert_exporter": "python",
   "pygments_lexer": "ipython3",
   "version": "3.11.4"
  },
  "orig_nbformat": 4
 },
 "nbformat": 4,
 "nbformat_minor": 2
}
