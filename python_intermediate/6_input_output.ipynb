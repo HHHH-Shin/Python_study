{
 "cells": [
  {
   "cell_type": "markdown",
   "metadata": {},
   "source": [
    "# 표준입출력장치"
   ]
  },
  {
   "cell_type": "markdown",
   "metadata": {},
   "source": [
    "## 1. 표준입출력장치\n",
    "\n",
    "--- \n",
    "\n",
    "일반적으로 표준입력장치는 키보드를 의미하고 표준출력장치는 모니터를 의미한다. \n",
    "- 키보드로 값을 입력받는 방법과 콘솔로 결과를 출력"
   ]
  },
  {
   "cell_type": "markdown",
   "metadata": {},
   "source": [
    "## 2. 표준입력장치 \n",
    "\n",
    "---\n",
    "\n",
    "표준입력장치인 키보드로부터 임의의 값을 입력받아서 프로그래밍을 작성 가능 \n",
    "- 소량의 데이터를 키보드로 입력 받아 로직(logic)의 처리과정을 확인하는 경우 주로 이용 \n",
    "\n",
    "`input()`:  \n",
    "- input(prompt): 프롬프트는 콘솔에 출력되는 메세지 역할\n",
    "- 입력된 모든 값은 문자열로 처리(i.e. 숫자의 경우 숫자형으로 변경할 필요가 있음)"
   ]
  },
  {
   "cell_type": "code",
   "execution_count": 2,
   "metadata": {},
   "outputs": [
    {
     "name": "stdout",
     "output_type": "stream",
     "text": [
      "num: 100\n",
      "data type: <class 'str'>\n",
      "num * 2: 100100\n"
     ]
    }
   ],
   "source": [
    "# 입력을 변수에 할당\n",
    "num = input('숫자 입력:')\n",
    "print('num:', num)\n",
    "print('data type:', type(num))\n",
    "print('num * 2:', num * 2)"
   ]
  },
  {
   "cell_type": "code",
   "execution_count": 4,
   "metadata": {},
   "outputs": [
    {
     "name": "stdout",
     "output_type": "stream",
     "text": [
      "num1: 100\n",
      "data type: <class 'int'>\n",
      "num1 * 2: 200\n"
     ]
    }
   ],
   "source": [
    "# str -> int\n",
    "num1 = int(input('숫자 입력:'))\n",
    "print('num1:', num1)\n",
    "print('data type:', type(num1))\n",
    "print('num1 * 2:', num1 * 2)"
   ]
  },
  {
   "cell_type": "code",
   "execution_count": 5,
   "metadata": {},
   "outputs": [
    {
     "name": "stdout",
     "output_type": "stream",
     "text": [
      "num2: 100.0\n",
      "data type: <class 'float'>\n",
      "num2 * 2: 200.0\n"
     ]
    }
   ],
   "source": [
    "# str -> float\n",
    "num2 = float(input('숫자 입력:'))\n",
    "print('num2:', num2)\n",
    "print('data type:', type(num2))\n",
    "print('num2 * 2:', num2 * 2)"
   ]
  },
  {
   "cell_type": "code",
   "execution_count": 6,
   "metadata": {},
   "outputs": [
    {
     "name": "stdout",
     "output_type": "stream",
     "text": [
      "result: 200.0\n"
     ]
    }
   ],
   "source": [
    "# 정수, 실수 연산결과: 실수\n",
    "result = num1 + num2\n",
    "print('result:', result)"
   ]
  },
  {
   "cell_type": "markdown",
   "metadata": {},
   "source": [
    "## 3. 표준출력장치\n",
    "\n",
    "---\n",
    "\n",
    "표준출력장치인 모니텉는 콘솔(Console)로 불려진다. \n",
    "\n",
    "`print()`: \n",
    "- values\n",
    "- sep\n",
    "- end\n",
    "- file\n",
    "- flush"
   ]
  },
  {
   "cell_type": "code",
   "execution_count": 7,
   "metadata": {},
   "outputs": [
    {
     "name": "stdout",
     "output_type": "stream",
     "text": [
      "Help on built-in function print in module builtins:\n",
      "\n",
      "print(*args, sep=' ', end='\\n', file=None, flush=False)\n",
      "    Prints the values to a stream, or to sys.stdout by default.\n",
      "    \n",
      "    sep\n",
      "      string inserted between values, default a space.\n",
      "    end\n",
      "      string appended after the last value, default a newline.\n",
      "    file\n",
      "      a file-like object (stream); defaults to the current sys.stdout.\n",
      "    flush\n",
      "      whether to forcibly flush the stream.\n",
      "\n"
     ]
    }
   ],
   "source": [
    "help(print)"
   ]
  },
  {
   "cell_type": "code",
   "execution_count": 8,
   "metadata": {},
   "outputs": [
    {
     "name": "stdout",
     "output_type": "stream",
     "text": [
      "value = 150\n"
     ]
    }
   ],
   "source": [
    "# value\n",
    "print('value =', 10+20+30+40+50)"
   ]
  },
  {
   "cell_type": "code",
   "execution_count": 9,
   "metadata": {},
   "outputs": [
    {
     "name": "stdout",
     "output_type": "stream",
     "text": [
      "010-1234-5678\n"
     ]
    }
   ],
   "source": [
    "# sep: value들을 구분하는 구분자\n",
    "print('010', '1234', '5678', sep = '-')"
   ]
  },
  {
   "cell_type": "code",
   "execution_count": 10,
   "metadata": {},
   "outputs": [
    {
     "name": "stdout",
     "output_type": "stream",
     "text": [
      "value = 10,20\n"
     ]
    }
   ],
   "source": [
    "# end: 마지막 value 이후 \n",
    "print('value =', 10, end = ',')\n",
    "print(20)"
   ]
  },
  {
   "cell_type": "markdown",
   "metadata": {},
   "source": [
    "## 4. format과 양식문자 \n",
    "\n",
    "---\n",
    "\n",
    "`format()`:\n",
    "- 주어진 값을 지정한 양식으로 변환해주는 함수\n",
    "\n",
    "|양식문자|출력형식\n",
    "|:--:|:--:|\n",
    "|%d|10진수 정수|\n",
    "|%o|8진수 정수|\n",
    "|%x|16진수 정수|\n",
    "|%f|실수(%f전체자릿수.소수점자리수)|\n",
    "|%s|문자열|\n",
    "|%c|단일문자열|"
   ]
  },
  {
   "cell_type": "code",
   "execution_count": 12,
   "metadata": {},
   "outputs": [
    {
     "name": "stdout",
     "output_type": "stream",
     "text": [
      "원주율 =  3.142\n"
     ]
    }
   ],
   "source": [
    "# 전체자리수.소수점자리수f\n",
    "print('원주율 =', format(3.14159, '6.3f'))"
   ]
  },
  {
   "cell_type": "code",
   "execution_count": 13,
   "metadata": {},
   "outputs": [
    {
     "name": "stdout",
     "output_type": "stream",
     "text": [
      "금액:      10000\n"
     ]
    }
   ],
   "source": [
    "# 10자리 정수\n",
    "print('금액:', format(10000, '10d'))"
   ]
  },
  {
   "cell_type": "code",
   "execution_count": 14,
   "metadata": {},
   "outputs": [
    {
     "name": "stdout",
     "output_type": "stream",
     "text": [
      "금액: 1,250,000\n"
     ]
    }
   ],
   "source": [
    "# ,\n",
    "print('금액:', format(1250000, '3,d'))"
   ]
  },
  {
   "cell_type": "code",
   "execution_count": 15,
   "metadata": {},
   "outputs": [
    {
     "name": "stdout",
     "output_type": "stream",
     "text": [
      "이름: 홍길동, 나이: 35, data: 123.46\n"
     ]
    }
   ],
   "source": [
    "name = '홍길동'\n",
    "age = 35\n",
    "price = 123.456\n",
    "print('이름: %s, 나이: %d, data: %.2f'%(name, age, price))"
   ]
  },
  {
   "cell_type": "markdown",
   "metadata": {},
   "source": [
    "## 5. 외부상수 출력 \n",
    "\n",
    "---\n",
    "\n",
    "- print('{}'.format(값))형식으로 print()안에서 {}기호를 통해 외부 값을 출력할 수 있다.\n",
    "\n",
    "- {n}처엄 순번을 입력하여 외부 값을 받을 수 있다. "
   ]
  },
  {
   "cell_type": "code",
   "execution_count": 18,
   "metadata": {},
   "outputs": [
    {
     "name": "stdout",
     "output_type": "stream",
     "text": [
      "이름: 홍길동, 나이: 35, data: 123.456\n"
     ]
    }
   ],
   "source": [
    "print('이름: {}, 나이: {}, data: {}'.format(name, age, price))"
   ]
  },
  {
   "cell_type": "code",
   "execution_count": 19,
   "metadata": {},
   "outputs": [
    {
     "name": "stdout",
     "output_type": "stream",
     "text": [
      "이름: 홍길동, 나이: 35, data = 123.456\n"
     ]
    }
   ],
   "source": [
    "print('이름: {1}, 나이: {0}, data = {2}'.format(age, name, price))"
   ]
  },
  {
   "cell_type": "code",
   "execution_count": 21,
   "metadata": {},
   "outputs": [
    {
     "name": "stdout",
     "output_type": "stream",
     "text": [
      "select * from member where uid = asdf\n"
     ]
    }
   ],
   "source": [
    "# SQL \n",
    "uid = input('id input:')\n",
    "query = f'select * from member where uid = {uid}'\n",
    "print(query)"
   ]
  }
 ],
 "metadata": {
  "kernelspec": {
   "display_name": "Python 3",
   "language": "python",
   "name": "python3"
  },
  "language_info": {
   "codemirror_mode": {
    "name": "ipython",
    "version": 3
   },
   "file_extension": ".py",
   "mimetype": "text/x-python",
   "name": "python",
   "nbconvert_exporter": "python",
   "pygments_lexer": "ipython3",
   "version": "3.11.4"
  },
  "orig_nbformat": 4
 },
 "nbformat": 4,
 "nbformat_minor": 2
}
