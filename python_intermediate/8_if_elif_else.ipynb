{
 "cells": [
  {
   "cell_type": "markdown",
   "metadata": {},
   "source": [
    "# 흐름제어"
   ]
  },
  {
   "cell_type": "markdown",
   "metadata": {},
   "source": [
    "## 1. 제어문\n",
    "\n",
    "---\n",
    "\n",
    "제어문은 조건문과 반복문으로 구성 \n",
    "- 조건문: 프로그램의 흐름을 조건에 따라 변경\n",
    "- 반복문: 명령어를 반복해서 수행"
   ]
  },
  {
   "cell_type": "markdown",
   "metadata": {},
   "source": [
    "## 2. 조건문 \n",
    "\n",
    "---\n",
    "\n",
    "특정 조건식에 따라서 명령어의 실행이 결정되는 명령어\n",
    "- `if`\n",
    "- `elif`\n",
    "- `else`\n",
    "\n",
    "<center>\n",
    "    <img\n",
    "        src = '/Users/sinhyeonho/Desktop/repo/Python/python_intermediate/image/ifelifelse.png'\n",
    "        width = '200'\n",
    "        height = '200'\n",
    "    ></img>\n",
    "</center>\n"
   ]
  },
  {
   "cell_type": "markdown",
   "metadata": {},
   "source": [
    "## 3. 단일 조건문 \n",
    "\n",
    "---\n",
    "\n",
    "조건식 한 개를 기준으로 비교 판단하여 처리하는 형식. i.e. 특정 조건일 때 코드를 실행하는 문법.\n",
    "\n",
    "```python\n",
    "if 조건:\n",
    "    # True일 때\n",
    "    실행문\n",
    "    실행문\n",
    "```\n",
    "\n",
    "```python\n",
    "if 조건:\n",
    "    # True일 때 \n",
    "    실행문\n",
    "    실행문\n",
    "else: \n",
    "    # False일 때\n",
    "    실행문\n",
    "    실행문\n",
    "```"
   ]
  },
  {
   "cell_type": "markdown",
   "metadata": {},
   "source": [
    "### NOTE. 의사코드(pseudo code)\n",
    "의사 코드는 실제 프로그래민 언어가 아닌 사람의 언어로 프로그래밍 언어를 표현한 것. 보통 특정 프로그래민 언어를 사용하지 않고 알고리즘이나 명령을 기술할 때 사용\n",
    "\n",
    "```python\n",
    "x = 10 # 파이썬 코드 \n",
    "변수 x에 10 할당 # 의사코드\n",
    "```"
   ]
  },
  {
   "cell_type": "code",
   "execution_count": 1,
   "metadata": {},
   "outputs": [
    {
     "name": "stdout",
     "output_type": "stream",
     "text": [
      "var: 10\n",
      "var는 5보다 크거나 같다\n",
      "조건이  참인 경우 실행\n",
      "항상실행(if와 관계없이)\n"
     ]
    }
   ],
   "source": [
    "# 단일 조건문\n",
    "var = 10\n",
    "if var >= 5:\n",
    "    print('var:', var)\n",
    "    print('var는 5보다 크거나 같다')\n",
    "    print('조건이  참인 경우 실행')\n",
    "\n",
    "print('항상실행(if와 관계없이)')"
   ]
  },
  {
   "cell_type": "code",
   "execution_count": 5,
   "metadata": {},
   "outputs": [
    {
     "name": "stdout",
     "output_type": "stream",
     "text": [
      "저조\n"
     ]
    }
   ],
   "source": [
    "# 100 ~ 85: 우수\n",
    "# 84 ~ 70: 보통\n",
    "# 69이하: 저조\n",
    "score = int(input('점수 입력:'))\n",
    "if 85 <= score <= 100:\n",
    "    print('우수')\n",
    "else:\n",
    "    if 70 <= score:\n",
    "        print('보통')\n",
    "    \n",
    "    else: \n",
    "        print('저조')"
   ]
  },
  {
   "cell_type": "markdown",
   "metadata": {},
   "source": [
    "## 4. 중첩 조건문 \n",
    "\n",
    " ---\n",
    "\n",
    " if 블록 내에 또 다른 if 블록이 포함된 형태 \n",
    " ㅇ "
   ]
  }
 ],
 "metadata": {
  "kernelspec": {
   "display_name": "Python 3",
   "language": "python",
   "name": "python3"
  },
  "language_info": {
   "codemirror_mode": {
    "name": "ipython",
    "version": 3
   },
   "file_extension": ".py",
   "mimetype": "text/x-python",
   "name": "python",
   "nbconvert_exporter": "python",
   "pygments_lexer": "ipython3",
   "version": "3.11.4"
  },
  "orig_nbformat": 4
 },
 "nbformat": 4,
 "nbformat_minor": 2
}
