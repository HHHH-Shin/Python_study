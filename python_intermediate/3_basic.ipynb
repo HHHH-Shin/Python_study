{
 "cells": [
  {
   "cell_type": "markdown",
   "id": "c18faba4",
   "metadata": {},
   "source": [
    "# 변수와 자료형(Variable and Data Type)\n",
    "\n",
    "## 1. 표현식과 문장\n",
    "**표현식(expression)**: 파이썬에서 어떤한 값을 만들어내는 간단한 코드, 값이란 숫자 수식, 문자열 등이 될 수 있음   \n",
    "**문장(statement)**: 표현식이 두개 이상 모일 경우, 그 자체로 어떤 값을 만들 수 없으면 문장이 아니다.  \n",
    "**프로그램(program)**: 문장이 모여서 형성"
   ]
  },
  {
   "cell_type": "code",
   "execution_count": 3,
   "id": "77d541f0",
   "metadata": {},
   "outputs": [
    {
     "data": {
      "text/plain": [
       "273"
      ]
     },
     "execution_count": 3,
     "metadata": {},
     "output_type": "execute_result"
    }
   ],
   "source": [
    "273"
   ]
  },
  {
   "cell_type": "code",
   "execution_count": 4,
   "id": "bb11162f",
   "metadata": {},
   "outputs": [
    {
     "name": "stdout",
     "output_type": "stream",
     "text": [
      "273\n"
     ]
    }
   ],
   "source": [
    "print(273)"
   ]
  },
  {
   "cell_type": "code",
   "execution_count": 5,
   "id": "de9867ce",
   "metadata": {},
   "outputs": [
    {
     "data": {
      "text/plain": [
       "100"
      ]
     },
     "execution_count": 5,
     "metadata": {},
     "output_type": "execute_result"
    }
   ],
   "source": [
    "10+20+30+40"
   ]
  },
  {
   "cell_type": "code",
   "execution_count": 6,
   "id": "14db7296",
   "metadata": {},
   "outputs": [
    {
     "data": {
      "text/plain": [
       "'hello world'"
      ]
     },
     "execution_count": 6,
     "metadata": {},
     "output_type": "execute_result"
    }
   ],
   "source": [
    "'hello world'"
   ]
  },
  {
   "cell_type": "markdown",
   "id": "59905ff0",
   "metadata": {},
   "source": [
    "## 2. 키워드\n",
    "**키워드(keyword)**: 특별한 의미가 부여된 단어\n",
    "- 파이썬에서 이미 특정 의미로 사용하기로 예약해 놓은 것 \n",
    "- 이름으로 사용할 수 없음\n",
    "- 대소문자 구별\n",
    "\n",
    "|False|True|None|and|or|assert|\n",
    "|:---:|:---:|:---:|:---:|:---:|:---:|\n",
    "|break|class|continue|def|del|elif|\n",
    "|else|except|finally|for|from|global|\n",
    "|if|import|in|is|lambda|nonlocal|\n",
    "|not|as|pass|raise|return|try|\n",
    "|while|with|yield||||"
   ]
  },
  {
   "cell_type": "code",
   "execution_count": 7,
   "id": "a3619704",
   "metadata": {},
   "outputs": [
    {
     "data": {
      "text/plain": [
       "False"
      ]
     },
     "execution_count": 7,
     "metadata": {},
     "output_type": "execute_result"
    }
   ],
   "source": [
    "False"
   ]
  },
  {
   "cell_type": "code",
   "execution_count": 8,
   "id": "6a73ac83",
   "metadata": {},
   "outputs": [
    {
     "data": {
      "text/plain": [
       "True"
      ]
     },
     "execution_count": 8,
     "metadata": {},
     "output_type": "execute_result"
    }
   ],
   "source": [
    "True"
   ]
  },
  {
   "cell_type": "code",
   "execution_count": 10,
   "id": "26909ab4",
   "metadata": {},
   "outputs": [],
   "source": [
    "None"
   ]
  },
  {
   "cell_type": "code",
   "execution_count": 11,
   "id": "33fff637",
   "metadata": {},
   "outputs": [
    {
     "name": "stdout",
     "output_type": "stream",
     "text": [
      "['False', 'None', 'True', 'and', 'as', 'assert', 'async', 'await', 'break', 'class', 'continue', 'def', 'del', 'elif', 'else', 'except', 'finally', 'for', 'from', 'global', 'if', 'import', 'in', 'is', 'lambda', 'nonlocal', 'not', 'or', 'pass', 'raise', 'return', 'try', 'while', 'with', 'yield']\n"
     ]
    }
   ],
   "source": [
    "# keyword 확인 \n",
    "import keyword\n",
    "print(keyword.kwlist)"
   ]
  },
  {
   "cell_type": "markdown",
   "id": "86ce6428",
   "metadata": {},
   "source": [
    "## 3. 식별자\n",
    "**식별자(identifier)**: 이름을 붙일 때 사용하는 단어 \n",
    "- 변수, 함수 이름 등\n",
    "- 키워드 사용 불가\n",
    "- 특수문자는 `_`만 허용 \n",
    "- 숫자로 시작 불가\n",
    "- 공백 불가 \n",
    "- 알파벳 사용\n",
    "- 의미 있는 단어 사용\n",
    "\n",
    "**스네이크 케이스(snake_case) vs. 캐멀 케이스(CamelCase)**\n",
    "- 공백을 처리하기 위해 사용 \n",
    "- 스네이크 케이스(snake_case): `_`를 기호 중간에\n",
    "    - 변수 또는 함수 이름에 많이 사용 \n",
    "- 캐멀 케이스(CamelCase): 단어들의 첫 글자를 대문자로\n",
    "    - 클래스 이름에 많이 사용\n",
    "    \n",
    "|without space|snake_case|CamelCase|\n",
    "|:---:|:---:|:---:|\n",
    "|itemlist|item_list|ItemList|\n",
    "|loginstatus|login_status|LoginStatus|\n",
    "|characterhp|character_hp|CharacterHp|\n",
    "|rotateangle|rotate_angle|RotateAngle|\n"
   ]
  },
  {
   "cell_type": "markdown",
   "id": "6434a4fb",
   "metadata": {},
   "source": [
    "## 4. 주석 \n",
    "**주석(comment)**: 프로그램 진행에 영향을 주지 않는 코드. i.e. 프로그램 설명을 위해 사용 \n",
    "- `#`을 앞에 붙임"
   ]
  },
  {
   "cell_type": "code",
   "execution_count": 16,
   "id": "5d1f3a94",
   "metadata": {},
   "outputs": [
    {
     "name": "stdout",
     "output_type": "stream",
     "text": [
      "this is not comment\n"
     ]
    }
   ],
   "source": [
    "print('this is not comment')\n",
    "# print('this is comment')"
   ]
  },
  {
   "cell_type": "markdown",
   "id": "6de5f7e0",
   "metadata": {},
   "source": [
    "## 5. 연산자와 자료\n",
    "**연산자(operator)**: 값과 값 사이에 무언가 기능을 적용할 때 사용  "
   ]
  },
  {
   "cell_type": "code",
   "execution_count": 1,
   "id": "d9144b97",
   "metadata": {},
   "outputs": [
    {
     "data": {
      "text/plain": [
       "2"
      ]
     },
     "execution_count": 1,
     "metadata": {},
     "output_type": "execute_result"
    }
   ],
   "source": [
    "1+1"
   ]
  },
  {
   "cell_type": "code",
   "execution_count": 2,
   "id": "d78c5668",
   "metadata": {},
   "outputs": [
    {
     "data": {
      "text/plain": [
       "2"
      ]
     },
     "execution_count": 2,
     "metadata": {},
     "output_type": "execute_result"
    }
   ],
   "source": [
    "1*2"
   ]
  },
  {
   "cell_type": "code",
   "execution_count": 3,
   "id": "b089530a",
   "metadata": {},
   "outputs": [
    {
     "data": {
      "text/plain": [
       "-3"
      ]
     },
     "execution_count": 3,
     "metadata": {},
     "output_type": "execute_result"
    }
   ],
   "source": [
    "1-4"
   ]
  },
  {
   "cell_type": "code",
   "execution_count": 4,
   "id": "7cef844a",
   "metadata": {},
   "outputs": [
    {
     "data": {
      "text/plain": [
       "0.2"
      ]
     },
     "execution_count": 4,
     "metadata": {},
     "output_type": "execute_result"
    }
   ],
   "source": [
    "1/5"
   ]
  },
  {
   "cell_type": "markdown",
   "id": "9c377ecf",
   "metadata": {},
   "source": [
    "## 6. 출력\n",
    "**print()**: 출력 기능  \n",
    "- 출력하고 싶은 것들을 괄호안에 나열"
   ]
  },
  {
   "cell_type": "code",
   "execution_count": 5,
   "id": "7dd2572a",
   "metadata": {},
   "outputs": [
    {
     "name": "stdout",
     "output_type": "stream",
     "text": [
      "hello world\n"
     ]
    }
   ],
   "source": [
    "print('hello world')"
   ]
  },
  {
   "cell_type": "code",
   "execution_count": 6,
   "id": "d6993fe8",
   "metadata": {},
   "outputs": [
    {
     "name": "stdout",
     "output_type": "stream",
     "text": [
      "hello world 52\n"
     ]
    }
   ],
   "source": [
    "print('hello world', 52)"
   ]
  },
  {
   "cell_type": "code",
   "execution_count": 8,
   "id": "7734d17c",
   "metadata": {},
   "outputs": [
    {
     "name": "stdout",
     "output_type": "stream",
     "text": [
      "hello\n",
      "\n",
      "world\n"
     ]
    }
   ],
   "source": [
    "# 줄바꿈 \n",
    "print('hello')\n",
    "print()\n",
    "print('world')"
   ]
  }
 ],
 "metadata": {
  "kernelspec": {
   "display_name": "Python 3 (ipykernel)",
   "language": "python",
   "name": "python3"
  },
  "language_info": {
   "codemirror_mode": {
    "name": "ipython",
    "version": 3
   },
   "file_extension": ".py",
   "mimetype": "text/x-python",
   "name": "python",
   "nbconvert_exporter": "python",
   "pygments_lexer": "ipython3",
   "version": "3.11.4"
  }
 },
 "nbformat": 4,
 "nbformat_minor": 5
}
