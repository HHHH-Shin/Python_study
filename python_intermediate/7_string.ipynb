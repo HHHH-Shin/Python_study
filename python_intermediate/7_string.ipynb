{
 "cells": [
  {
   "cell_type": "markdown",
   "metadata": {},
   "source": [
    "# 문자열"
   ]
  },
  {
   "cell_type": "markdown",
   "metadata": {},
   "source": [
    "## 문자열(string)\n",
    "\n",
    "---\n",
    "\n",
    "문자열은 문자들의 집합으로 `' '`, `\" \"`, `''' '''`, `\"\"\" \"\"\"`를 이용하여 문자열을 감싸 표현.\n",
    "- 이때 `''' '''`과 `\"\"\" \"\"\"`는 여러줄의 문자열을 표현할 때 사용\n"
   ]
  },
  {
   "cell_type": "code",
   "execution_count": 1,
   "metadata": {},
   "outputs": [
    {
     "name": "stdout",
     "output_type": "stream",
     "text": [
      "hello, world\n"
     ]
    }
   ],
   "source": [
    "# 한 줄로 된 문자열\n",
    "one_line = 'hello, world'\n",
    "print(one_line)"
   ]
  },
  {
   "cell_type": "code",
   "execution_count": 2,
   "metadata": {},
   "outputs": [
    {
     "name": "stdout",
     "output_type": "stream",
     "text": [
      "hello,\n",
      "python\n"
     ]
    }
   ],
   "source": [
    "# 여러 줄로 된 문자열 \n",
    "multi_line = '''hello,\n",
    "python'''\n",
    "print(multi_line)"
   ]
  },
  {
   "cell_type": "code",
   "execution_count": 3,
   "metadata": {},
   "outputs": [
    {
     "name": "stdout",
     "output_type": "stream",
     "text": [
      "hello,\n",
      "python\n"
     ]
    }
   ],
   "source": [
    "# 이스케이프: \\n (줄바꿈)\n",
    "multi_line2 = 'hello,\\npython'\n",
    "print(multi_line)"
   ]
  },
  {
   "cell_type": "markdown",
   "metadata": {},
   "source": [
    "## 2. 문자열의 특징\n",
    "\n",
    "---\n",
    "\n",
    "문자들은 일정한 순서를 가지고 있음. 이러한 순서는 **색인(index)**이라는 용어로 불림\n",
    "- index를 이용해서 특정 문자를 추출하거나 문자열의 특정 부분을 추출할 수 있다.\n",
    "\n",
    "<center>\n",
    "<img\n",
    "    src = '/Users/sinhyeonho/Desktop/repo/Python/python_intermediate/image/string.png'\n",
    "    width = '200',\n",
    "    height = '50'\n",
    ">\n",
    "</img>\n",
    "</center>"
   ]
  },
  {
   "cell_type": "code",
   "execution_count": 5,
   "metadata": {},
   "outputs": [
    {
     "name": "stdout",
     "output_type": "stream",
     "text": [
      "P\n",
      "Y\n",
      "T\n",
      "H\n",
      "O\n",
      "N\n",
      "N\n",
      "O\n",
      "H\n",
      "T\n",
      "Y\n",
      "P\n"
     ]
    }
   ],
   "source": [
    "# 문자열 색인\n",
    "string = 'PYTHON'\n",
    "print(string[0])\n",
    "print(string[1])\n",
    "print(string[2])\n",
    "print(string[3])\n",
    "print(string[4])\n",
    "print(string[5])\n",
    "print(string[-1])\n",
    "print(string[-2])\n",
    "print(string[-3])\n",
    "print(string[-4])\n",
    "print(string[-5])\n",
    "print(string[-6])"
   ]
  },
  {
   "cell_type": "code",
   "execution_count": 8,
   "metadata": {},
   "outputs": [
    {
     "name": "stdout",
     "output_type": "stream",
     "text": [
      "hello world\n"
     ]
    }
   ],
   "source": [
    "# 문자열 연산 \n",
    "# +: 결합연산자\n",
    "print('hello' + ' world')"
   ]
  },
  {
   "cell_type": "code",
   "execution_count": 11,
   "metadata": {},
   "outputs": [
    {
     "name": "stdout",
     "output_type": "stream",
     "text": [
      "Python-3.7.exe\n"
     ]
    }
   ],
   "source": [
    "print('Python-' + str(3.7) + '.exe')"
   ]
  },
  {
   "cell_type": "code",
   "execution_count": 12,
   "metadata": {},
   "outputs": [
    {
     "name": "stdout",
     "output_type": "stream",
     "text": [
      "------------------------------\n"
     ]
    }
   ],
   "source": [
    "# *: 반복연산자\n",
    "print('-' * 30)"
   ]
  },
  {
   "cell_type": "code",
   "execution_count": 23,
   "metadata": {},
   "outputs": [
    {
     "name": "stdout",
     "output_type": "stream",
     "text": [
      "hello, world\n",
      "문자열 길이: 12\n",
      "hello\n",
      "hello\n",
      "hello, world\n",
      "hlo ol\n",
      "hello, worl\n",
      " worl\n",
      "hlo ol\n",
      "dlrow ,olleh\n",
      "orld\n"
     ]
    }
   ],
   "source": [
    "# 문자열 슬라이싱\n",
    "print(one_line)\n",
    "print('문자열 길이:', len(one_line))\n",
    "\n",
    "print(one_line[0:5])\n",
    "print(one_line[:5])\n",
    "print(one_line[:])\n",
    "print(one_line[::2])\n",
    "\n",
    "print(one_line[0:-1])\n",
    "print(one_line[-6:-1])\n",
    "print(one_line[0:-1:2])\n",
    "print(one_line[::-1])\n",
    "print(one_line[-4:])"
   ]
  },
  {
   "cell_type": "code",
   "execution_count": 24,
   "metadata": {},
   "outputs": [
    {
     "name": "stdout",
     "output_type": "stream",
     "text": [
      "hello,\n"
     ]
    }
   ],
   "source": [
    "# 부분 문자열 생성\n",
    "sub_string = one_line[0:6]\n",
    "print(sub_string)"
   ]
  },
  {
   "cell_type": "markdown",
   "metadata": {},
   "source": [
    "## 3. 문자열 처리함수\n",
    "문자열을 수정하거나 조작하는 함수\n",
    "\n",
    "|fn|기능|\n",
    "|:---:|:---:|\n",
    "|s.lower()|소문자 변경|\n",
    "|s.upper()|대문자 변경|\n",
    "|s.swapcase()|소문자는 대문자로 대문자를 소문자로|\n",
    "|s.lstrip()|왼쪽 공백 제거|\n",
    "|s.rstrip()|오른쪽 공백 제거|\n",
    "|s.strip()|양쪽 공백 제거|\n",
    "|s.count(x)|x와 일치하는 문자의 개수 반환|\n",
    "|s.find(x)|x가 처음으로 나온 위치 반환|\n",
    "|s.rfind(x)|오른쪽으로부터 x가 처음으로 나온 위치 반환|\n",
    "|s.index(x)|x가 처음으로 나온 위치를 반환|\n",
    "|'sep'.join(s)|s를 'sep'구분자로 결합|\n",
    "|s.replace(x, r)|x를 r로 바꿈|\n",
    "|s.split('sep')|'sep'구분자를 기준으로 분리|\n",
    "|s.startswith('x')|x로 시작되는지 여부를 반환(True, False)|"
   ]
  },
  {
   "cell_type": "code",
   "execution_count": 28,
   "metadata": {},
   "outputs": [
    {
     "name": "stdout",
     "output_type": "stream",
     "text": [
      "hello, world\n",
      "HELLO, WORLD\n",
      "hELLO, wORLD\n"
     ]
    }
   ],
   "source": [
    "string = 'Hello, World'\n",
    "print(string.lower())\n",
    "print(string.upper())\n",
    "print(string.swapcase())"
   ]
  },
  {
   "cell_type": "code",
   "execution_count": 29,
   "metadata": {},
   "outputs": [
    {
     "name": "stdout",
     "output_type": "stream",
     "text": [
      "     Hello, World     \n",
      "Hello, World     \n",
      "     Hello, World\n",
      "Hello, World\n"
     ]
    }
   ],
   "source": [
    "string1 = '     Hello, World     '\n",
    "print(string1)\n",
    "print(string1.lstrip())\n",
    "print(string1.rstrip())\n",
    "print(string1.strip())"
   ]
  },
  {
   "cell_type": "code",
   "execution_count": 34,
   "metadata": {},
   "outputs": [
    {
     "name": "stdout",
     "output_type": "stream",
     "text": [
      "2\n",
      "4\n",
      "8\n",
      "4\n"
     ]
    }
   ],
   "source": [
    "print(string.count('o'))\n",
    "print(string.find('o'))\n",
    "print(string.rfind('o'))\n",
    "print(string.index('o'))"
   ]
  },
  {
   "cell_type": "code",
   "execution_count": 37,
   "metadata": {},
   "outputs": [
    {
     "name": "stdout",
     "output_type": "stream",
     "text": [
      "['Hello,', 'Python', 'World']\n",
      "Hello, Python World\n",
      "Hello, Programming World\n",
      "True\n"
     ]
    }
   ],
   "source": [
    "string3 = 'Hello, Python World'\n",
    "lst = ['Hello,', 'Python', 'World']\n",
    "print(string3.split())\n",
    "print(' '.join(lst))\n",
    "print(string3.replace('Python', 'Programming'))\n",
    "print(string3.startswith('Hello'))"
   ]
  },
  {
   "cell_type": "markdown",
   "metadata": {},
   "source": [
    "## 4. 이스케이프 문자\n",
    "- 이스케이프(escape): 어떤 기능으로부터 벗어난 기능을 의미\n",
    "- 이스케이프 문자들은 \\다음에 표시 \n",
    "\n",
    "|이스케이프 문자|기능|\n",
    "|:--:|:--:|\n",
    "|\\n|줄바꿈|\n",
    "|\\t|tab|\n",
    "|\\r|다음 줄 첫 칸으로 이동|\n",
    "|\\f|한 페이지 넘김|\n",
    "|\\b|백 스페이스|\n",
    "|\\\\|\\|\n",
    "|\\'|'|\n",
    "|\\\"|\"|\n",
    "|\\000|널 값|\n",
    "\n",
    "**이스케이프 문자 기능 차단**\n",
    "- \\n을 print하고 싶은 경우 \n",
    "\n",
    "1. \\를 하나 더 붙인다\n",
    "2. 이스케이프 문자 앞에 r을 붙인다.(raw)"
   ]
  },
  {
   "cell_type": "code",
   "execution_count": 39,
   "metadata": {},
   "outputs": [
    {
     "name": "stdout",
     "output_type": "stream",
     "text": [
      "hello \n",
      " world\n",
      "hello \\n world\n",
      "hello \\n world\n"
     ]
    }
   ],
   "source": [
    "print('hello \\n world')\n",
    "print('hello \\\\n world')\n",
    "print(r'hello \\n world')"
   ]
  },
  {
   "cell_type": "code",
   "execution_count": 41,
   "metadata": {},
   "outputs": [
    {
     "name": "stdout",
     "output_type": "stream",
     "text": [
      "c:\\'aa'\\\"abc.txt\"\n"
     ]
    }
   ],
   "source": [
    "# c:\\'aa'\\\"abc.txt\"\n",
    "print('c:\\\\\\'aa\\'\\\\\\\"abc.txt\\\"')"
   ]
  }
 ],
 "metadata": {
  "kernelspec": {
   "display_name": "Python 3",
   "language": "python",
   "name": "python3"
  },
  "language_info": {
   "codemirror_mode": {
    "name": "ipython",
    "version": 3
   },
   "file_extension": ".py",
   "mimetype": "text/x-python",
   "name": "python",
   "nbconvert_exporter": "python",
   "pygments_lexer": "ipython3",
   "version": "3.11.4"
  },
  "orig_nbformat": 4
 },
 "nbformat": 4,
 "nbformat_minor": 2
}
