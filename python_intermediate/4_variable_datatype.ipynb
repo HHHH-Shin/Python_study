{
 "cells": [
  {
   "cell_type": "markdown",
   "metadata": {},
   "source": [
    "# 변수와 자료형\n"
   ]
  },
  {
   "cell_type": "markdown",
   "metadata": {},
   "source": [
    "## 1. 변수와 자료형\n",
    "\n",
    "---\n",
    "\n",
    "**변수(variable)**: 자료를 일시적으로 보관하는 역할  \n",
    "**자료형(data type)**: 숫자 또는 문자와 같은 자료의 유형"
   ]
  },
  {
   "cell_type": "markdown",
   "metadata": {},
   "source": [
    "## 2. 변수\n",
    "\n",
    "---\n",
    "\n",
    "일반적으로 변수는 필요한 자료를 일시적으로 보관하거나 처리 결과를 담을 수 있는 기억장소 역할. i.e. 실제 값을 저장하는 메모리 이름으로 할당 따라서 변수에 값을 저장한다는 것은 메모리에 값을 저장한다는 의미  \n",
    "`파이썬`에서는 변수에 저장될 값이 메모리에 객체 형태로 저장된 이후 객체의 주소가 변수에 저장. i.e. 실제값이 저장되는 것이 아니라 실제값이 저장된 주소를 기억하는 참조형 변수\n",
    "\n",
    "<center>\n",
    "    <img \n",
    "        src = '/Users/sinhyeonho/Desktop/repo/Python/python_intermediate/image/variable.png' \n",
    "        width = '200px' \n",
    "        height = '100px' \n",
    "    >\n",
    "</center>\n",
    "\n",
    "**변수명 작성 규칙**\n",
    "- 의미를 파악할 수 있는 이름\n",
    "- 영문자로 시작\n",
    "- 공백이나 특수문자 사용 X\n",
    "- 예약어 사용 불가\n",
    "- _를 사용하여 단어를 연결\n",
    "- 대소문자 구분"
   ]
  },
  {
   "cell_type": "code",
   "execution_count": 5,
   "metadata": {},
   "outputs": [
    {
     "name": "stdout",
     "output_type": "stream",
     "text": [
      "Hello, Python\n",
      "메모리 주소: 4471175152\n",
      "자료형: <class 'str'>\n"
     ]
    }
   ],
   "source": [
    "# 변수할당, 메모리주소, 자료형\n",
    "var1 = 'Hello, Python'\n",
    "print(var1)\n",
    "print('메모리 주소:', id(var1))\n",
    "print('자료형:', type(var1))"
   ]
  },
  {
   "cell_type": "code",
   "execution_count": 6,
   "metadata": {},
   "outputs": [
    {
     "name": "stdout",
     "output_type": "stream",
     "text": [
      "100\n",
      "메모리 주소: 4365414688\n",
      "자료형: <class 'int'>\n"
     ]
    }
   ],
   "source": [
    "var1 = 100\n",
    "print(var1)\n",
    "print('메모리 주소:', id(var1))\n",
    "print('자료형:', type(var1))"
   ]
  },
  {
   "cell_type": "code",
   "execution_count": 7,
   "metadata": {},
   "outputs": [
    {
     "name": "stdout",
     "output_type": "stream",
     "text": [
      "150.25\n",
      "메모리 주소: 4400931664\n",
      "자료형: <class 'float'>\n"
     ]
    }
   ],
   "source": [
    "var2 = 150.25\n",
    "print(var2)\n",
    "print('메모리 주소:', id(var2))\n",
    "print('자료형:', type(var2))"
   ]
  },
  {
   "cell_type": "code",
   "execution_count": 8,
   "metadata": {},
   "outputs": [
    {
     "name": "stdout",
     "output_type": "stream",
     "text": [
      "True\n",
      "메모리 주소: 4364406120\n",
      "자료형: <class 'bool'>\n"
     ]
    }
   ],
   "source": [
    "var3 = True\n",
    "print(var3)\n",
    "print('메모리 주소:', id(var3))\n",
    "print('자료형:', type(var3))"
   ]
  },
  {
   "cell_type": "markdown",
   "metadata": {},
   "source": [
    "**변수와 메모리 주소(address)**  \n",
    "- `id()`: 변수가 참조하고 있는 객체의 주소를 출력하는 함수 \n",
    "    - 같은 변수에 새로운 값이 들어오면 기존 객체의 내용이 수정되는 것이 아니라 새로운 객체가 생성된다.(c.f. var1)"
   ]
  },
  {
   "cell_type": "markdown",
   "metadata": {},
   "source": [
    "## 3. 자료\n",
    "\n",
    "---\n",
    "\n",
    "**자료(data)**: 프로그램이 처리할 수 있는 모든 것을 의미"
   ]
  },
  {
   "cell_type": "markdown",
   "metadata": {},
   "source": [
    "## 4. 자료형\n",
    "\n",
    "---\n",
    "\n",
    "**자료형(data type)**: 자료를 기능과 역할에 따라 구분한 것  \n",
    "- 문자열(string)\n",
    "- 숫자(numeric)\n",
    "    - 정수형(integer)\n",
    "    - 실수형(float)\n",
    "- 불리언(boolean)\n",
    "\n",
    "`type()`: 자료형을 확인하는 함수\n",
    "- str: 문자열 \n",
    "- int: 정수형\n",
    "- float: 실수형\n",
    "- bool: 논리형"
   ]
  },
  {
   "cell_type": "code",
   "execution_count": 10,
   "metadata": {},
   "outputs": [
    {
     "name": "stdout",
     "output_type": "stream",
     "text": [
      "Data Type of var1: <class 'str'>\n",
      "Data Type of var2: <class 'int'>\n",
      "Data Type of var3: <class 'float'>\n",
      "Data Type of var4: <class 'bool'>\n"
     ]
    }
   ],
   "source": [
    "var1 = 'hello world'    # 문자열\n",
    "var2 = 12               # 정수형\n",
    "var3 = 150.25           # 실수형\n",
    "var4 = True             # 논리형(불리언)\n",
    "\n",
    "print('Data Type of var1:', type(var1))\n",
    "print('Data Type of var2:', type(var2))\n",
    "print('Data Type of var3:', type(var3))\n",
    "print('Data Type of var4:', type(var4))"
   ]
  },
  {
   "cell_type": "markdown",
   "metadata": {},
   "source": [
    "**자료형 변환**  \n",
    "- `int()`\n",
    "- `float()`\n",
    "- `str()`\n",
    "- `bool()`\n",
    "\n"
   ]
  },
  {
   "cell_type": "code",
   "execution_count": 11,
   "metadata": {},
   "outputs": [
    {
     "name": "stdout",
     "output_type": "stream",
     "text": [
      "add: 30\n"
     ]
    }
   ],
   "source": [
    "# float -> integer\n",
    "# 소수점 아래 값들은 버림\n",
    "a = int(10.5)\n",
    "b = int(20.42)\n",
    "add = a + b \n",
    "print('add:', add)"
   ]
  },
  {
   "cell_type": "code",
   "execution_count": 12,
   "metadata": {},
   "outputs": [
    {
     "name": "stdout",
     "output_type": "stream",
     "text": [
      "add2: 30.0\n"
     ]
    }
   ],
   "source": [
    "# integer -> float\n",
    "a = float(10)\n",
    "b = float(20)\n",
    "add2 = a + b\n",
    "print('add2:', add2)"
   ]
  },
  {
   "cell_type": "code",
   "execution_count": 15,
   "metadata": {},
   "outputs": [
    {
     "name": "stdout",
     "output_type": "stream",
     "text": [
      "True: 1\n",
      "False: 0\n"
     ]
    }
   ],
   "source": [
    "# boolean -> integer\n",
    "# True = 1, False = 0\n",
    "print('True:', int(True))\n",
    "print('False:', int(False))"
   ]
  },
  {
   "cell_type": "code",
   "execution_count": 17,
   "metadata": {},
   "outputs": [
    {
     "name": "stdout",
     "output_type": "stream",
     "text": [
      "1: True\n",
      "0: False\n"
     ]
    }
   ],
   "source": [
    "# integer -> boolean\n",
    "print('1:', bool(1))\n",
    "print('0:', bool(0))"
   ]
  },
  {
   "cell_type": "code",
   "execution_count": 20,
   "metadata": {},
   "outputs": [
    {
     "name": "stdout",
     "output_type": "stream",
     "text": [
      "10\n"
     ]
    }
   ],
   "source": [
    "# string -> integer\n",
    "string = '10'\n",
    "print(int(string))"
   ]
  },
  {
   "cell_type": "code",
   "execution_count": 21,
   "metadata": {},
   "outputs": [
    {
     "name": "stdout",
     "output_type": "stream",
     "text": [
      "10\n"
     ]
    }
   ],
   "source": [
    "# integer -> string\n",
    "integer = 10\n",
    "print(str(integer))"
   ]
  }
 ],
 "metadata": {
  "kernelspec": {
   "display_name": "Python 3",
   "language": "python",
   "name": "python3"
  },
  "language_info": {
   "codemirror_mode": {
    "name": "ipython",
    "version": 3
   },
   "file_extension": ".py",
   "mimetype": "text/x-python",
   "name": "python",
   "nbconvert_exporter": "python",
   "pygments_lexer": "ipython3",
   "version": "3.11.4"
  },
  "orig_nbformat": 4
 },
 "nbformat": 4,
 "nbformat_minor": 2
}
