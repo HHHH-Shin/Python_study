{
 "cells": [
  {
   "cell_type": "markdown",
   "metadata": {},
   "source": [
    "# 연산자(operator)"
   ]
  },
  {
   "cell_type": "markdown",
   "metadata": {},
   "source": [
    "## 1. 연산자의 정의 \n",
    "\n",
    "---\n",
    "\n",
    "산술연산자, 관계(비교)연산자, 논리연산자, 대입연산자\n",
    "\n",
    "||연산자|\n",
    "|:---:|:---:|\n",
    "|산술연산자|+ - * / % // **|\n",
    "|관계(비교)연산자|== != > >= < <=|\n",
    "|논리연산자|and or not|\n",
    "|대입연산자|= (a,b), *|"
   ]
  },
  {
   "cell_type": "markdown",
   "metadata": {},
   "source": [
    "## 2. 산술연산자\n",
    "\n",
    "---\n",
    "\n",
    "- `+`: 덧셈\n",
    "- `-`: 뺄셈\n",
    "- `*`: 곱셈\n",
    "- `/`: 나눗셈\n",
    "- `//`: 몫\n",
    "- `%`: 나머지\n",
    "- `**`: 거듭제곱\n",
    "\n",
    "아주 큰 값이나 아주 작은 값이 나타날 때 지수형식으로 출력 가능\n",
    "- `1e+40`: 1 * (10 ** 40)\n",
    "- `3.14e-3`: 3.14 * (10 ** -3)"
   ]
  },
  {
   "cell_type": "code",
   "execution_count": 1,
   "metadata": {},
   "outputs": [],
   "source": [
    "num1 = 100\n",
    "num2 = 20"
   ]
  },
  {
   "cell_type": "code",
   "execution_count": 2,
   "metadata": {},
   "outputs": [
    {
     "name": "stdout",
     "output_type": "stream",
     "text": [
      "add: 120\n"
     ]
    }
   ],
   "source": [
    "# 덧셈\n",
    "add = num1 + num2\n",
    "print('add:', add)"
   ]
  },
  {
   "cell_type": "code",
   "execution_count": 3,
   "metadata": {},
   "outputs": [
    {
     "name": "stdout",
     "output_type": "stream",
     "text": [
      "sub 80\n"
     ]
    }
   ],
   "source": [
    "# 뺄셈\n",
    "sub = num1 - num2\n",
    "print('sub', sub)"
   ]
  },
  {
   "cell_type": "code",
   "execution_count": 4,
   "metadata": {},
   "outputs": [
    {
     "name": "stdout",
     "output_type": "stream",
     "text": [
      "mul: 2000\n"
     ]
    }
   ],
   "source": [
    "# 곱셈\n",
    "mul = num1 * num2\n",
    "print('mul:', mul)"
   ]
  },
  {
   "cell_type": "code",
   "execution_count": 5,
   "metadata": {},
   "outputs": [
    {
     "name": "stdout",
     "output_type": "stream",
     "text": [
      "div: 5.0\n"
     ]
    }
   ],
   "source": [
    "# 나눗셈\n",
    "div = num1 / num2\n",
    "print('div:', div)"
   ]
  },
  {
   "cell_type": "code",
   "execution_count": 6,
   "metadata": {},
   "outputs": [
    {
     "name": "stdout",
     "output_type": "stream",
     "text": [
      "div2: 0\n"
     ]
    }
   ],
   "source": [
    "# 나머지\n",
    "div2 = num1 % num2\n",
    "print('div2:', div2)"
   ]
  },
  {
   "cell_type": "code",
   "execution_count": 7,
   "metadata": {},
   "outputs": [
    {
     "name": "stdout",
     "output_type": "stream",
     "text": [
      "div3: 5\n"
     ]
    }
   ],
   "source": [
    "# 몫\n",
    "div3 = num1 // num2\n",
    "print('div3:', div3)"
   ]
  },
  {
   "cell_type": "code",
   "execution_count": 9,
   "metadata": {},
   "outputs": [
    {
     "name": "stdout",
     "output_type": "stream",
     "text": [
      "power: 10000000000000000000000000000000000000000\n"
     ]
    }
   ],
   "source": [
    "# 제곱근 \n",
    "power = num1 ** num2\n",
    "print('power:', power)"
   ]
  },
  {
   "cell_type": "markdown",
   "metadata": {},
   "source": [
    "## 3. 관계(비교)연산자\n",
    "\n",
    "---\n",
    "\n",
    "- 관계식의 결과가 참이면 True, 거짓이면 False를 반환하는 연산자\n",
    "- 동등비교와 크기비교로 분류가능   \n",
    "- 조건문이나 반복문에서 사용함"
   ]
  },
  {
   "cell_type": "code",
   "execution_count": 10,
   "metadata": {},
   "outputs": [
    {
     "name": "stdout",
     "output_type": "stream",
     "text": [
      "False\n"
     ]
    }
   ],
   "source": [
    "# 값이 같은지 비교 \n",
    "bool_result = num1 == num2\n",
    "print(bool_result)"
   ]
  },
  {
   "cell_type": "code",
   "execution_count": 11,
   "metadata": {},
   "outputs": [
    {
     "name": "stdout",
     "output_type": "stream",
     "text": [
      "True\n"
     ]
    }
   ],
   "source": [
    "# 값이 다른지 비교\n",
    "bool_result = num1 != num2\n",
    "print(bool_result)"
   ]
  },
  {
   "cell_type": "code",
   "execution_count": 12,
   "metadata": {},
   "outputs": [
    {
     "name": "stdout",
     "output_type": "stream",
     "text": [
      "True\n"
     ]
    }
   ],
   "source": [
    "# 크다\n",
    "bool_result = num1 > num2\n",
    "print(bool_result)"
   ]
  },
  {
   "cell_type": "code",
   "execution_count": 13,
   "metadata": {},
   "outputs": [
    {
     "name": "stdout",
     "output_type": "stream",
     "text": [
      "True\n"
     ]
    }
   ],
   "source": [
    "# 크거나 같다\n",
    "bool_result = num1 >= num2\n",
    "print(bool_result)"
   ]
  },
  {
   "cell_type": "code",
   "execution_count": 14,
   "metadata": {},
   "outputs": [
    {
     "name": "stdout",
     "output_type": "stream",
     "text": [
      "False\n"
     ]
    }
   ],
   "source": [
    "# 작다\n",
    "bool_result = num1 < num2\n",
    "print(bool_result)"
   ]
  },
  {
   "cell_type": "code",
   "execution_count": 15,
   "metadata": {},
   "outputs": [
    {
     "name": "stdout",
     "output_type": "stream",
     "text": [
      "False\n"
     ]
    }
   ],
   "source": [
    "# 작거나 같다\n",
    "bool_result = num1 <= num2\n",
    "print(bool_result)"
   ]
  },
  {
   "cell_type": "markdown",
   "metadata": {},
   "source": [
    "## 4. 논리연산자\n",
    "\n",
    "---\n",
    "\n",
    "- 논리식이 참이면 True, 거짓이면 False를 반환하는 연산자\n",
    "- `and`\n",
    "\n",
    "|bool1|bool2|result|\n",
    "|:---:|:---:|:---:|\n",
    "|True|True|True|\n",
    "|True|False|False|\n",
    "|False|True|False|\n",
    "|False|False|False|\n",
    "\n",
    "- `or`\n",
    "\n",
    "|bool1|bool2|result|\n",
    "|:---:|:---:|:---:|\n",
    "|True|True|True|\n",
    "|True|False|True|\n",
    "|False|True|True|\n",
    "|False|False|False|\n",
    "\n",
    "- `not`\n",
    "    - not False: True\n",
    "    - not True: False"
   ]
  },
  {
   "cell_type": "code",
   "execution_count": 16,
   "metadata": {},
   "outputs": [
    {
     "name": "stdout",
     "output_type": "stream",
     "text": [
      "False\n"
     ]
    }
   ],
   "source": [
    "# 두 관계식이 모두 참인지 판단 \n",
    "log_result = num1 >= 50 and num2 <= 10\n",
    "print(log_result)"
   ]
  },
  {
   "cell_type": "code",
   "execution_count": 17,
   "metadata": {},
   "outputs": [
    {
     "name": "stdout",
     "output_type": "stream",
     "text": [
      "True\n"
     ]
    }
   ],
   "source": [
    "# 두 관계식 중 하나라도 참인지 판단\n",
    "log_result = num1 >= 50 or num2 <= 10\n",
    "print(log_result)"
   ]
  },
  {
   "cell_type": "code",
   "execution_count": 20,
   "metadata": {},
   "outputs": [
    {
     "name": "stdout",
     "output_type": "stream",
     "text": [
      "False\n"
     ]
    }
   ],
   "source": [
    "# 부정 \n",
    "log_result = not (num1 >= 50)\n",
    "print(log_result)"
   ]
  },
  {
   "cell_type": "markdown",
   "metadata": {},
   "source": [
    "## 5. 대입연산자\n",
    "\n",
    "---\n",
    "\n",
    "- `=`: 우변의 값을 좌변의 변수에 할당하는 연산자\n",
    "- `*`: 여러개의 값을 묶어서 변수에 할당하는 연산자\n",
    "- 변수의 값을 교환하는 연산자"
   ]
  },
  {
   "cell_type": "code",
   "execution_count": 21,
   "metadata": {},
   "outputs": [
    {
     "name": "stdout",
     "output_type": "stream",
     "text": [
      "10 10\n"
     ]
    }
   ],
   "source": [
    "# 변수에 값 할당 \n",
    "i = tot = 10\n",
    "print(i, tot)"
   ]
  },
  {
   "cell_type": "code",
   "execution_count": 22,
   "metadata": {},
   "outputs": [
    {
     "name": "stdout",
     "output_type": "stream",
     "text": [
      "11 21\n"
     ]
    }
   ],
   "source": [
    "# i = i + 1, tot = tot + i\n",
    "i += 1 \n",
    "tot += i\n",
    "print(i, tot)"
   ]
  },
  {
   "cell_type": "code",
   "execution_count": 23,
   "metadata": {},
   "outputs": [
    {
     "name": "stdout",
     "output_type": "stream",
     "text": [
      "200 100\n"
     ]
    }
   ],
   "source": [
    "# 두 변수의 값을 교환\n",
    "v1, v2 = 100, 200\n",
    "v1, v2 = v2, v1\n",
    "print(v1, v2)"
   ]
  },
  {
   "cell_type": "code",
   "execution_count": 24,
   "metadata": {},
   "outputs": [
    {
     "name": "stdout",
     "output_type": "stream",
     "text": [
      "1 [2, 3, 4, 5]\n"
     ]
    }
   ],
   "source": [
    "# 패킹 할당 \n",
    "lst = [1, 2, 3, 4, 5]\n",
    "v1, *v2 = lst\n",
    "print(v1, v2)"
   ]
  },
  {
   "cell_type": "code",
   "execution_count": 25,
   "metadata": {},
   "outputs": [
    {
     "name": "stdout",
     "output_type": "stream",
     "text": [
      "[1, 2, 3, 4] 5\n"
     ]
    }
   ],
   "source": [
    "*v1, v2 = lst\n",
    "print(v1, v2)"
   ]
  },
  {
   "cell_type": "code",
   "execution_count": 26,
   "metadata": {},
   "outputs": [
    {
     "name": "stdout",
     "output_type": "stream",
     "text": [
      "[1, 2, 3] 4 5\n"
     ]
    }
   ],
   "source": [
    "*v1, v2, v3 = lst\n",
    "print(v1, v2, v3)"
   ]
  }
 ],
 "metadata": {
  "kernelspec": {
   "display_name": "Python 3",
   "language": "python",
   "name": "python3"
  },
  "language_info": {
   "codemirror_mode": {
    "name": "ipython",
    "version": 3
   },
   "file_extension": ".py",
   "mimetype": "text/x-python",
   "name": "python",
   "nbconvert_exporter": "python",
   "pygments_lexer": "ipython3",
   "version": "3.11.4"
  },
  "orig_nbformat": 4
 },
 "nbformat": 4,
 "nbformat_minor": 2
}
